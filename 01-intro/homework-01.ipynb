{
 "cells": [
  {
   "cell_type": "code",
   "execution_count": 1,
   "id": "d8624680",
   "metadata": {},
   "outputs": [],
   "source": [
    "import pandas as pd\n",
    "from sklearn.feature_extraction import DictVectorizer\n",
    "from sklearn.linear_model import LinearRegression\n",
    "from sklearn.metrics import mean_squared_error\n",
    "from math import sqrt"
   ]
  },
  {
   "cell_type": "code",
   "execution_count": 2,
   "id": "11a34fa3",
   "metadata": {},
   "outputs": [],
   "source": [
    "DATA_TRAIN = \"yellow_tripdata_2023-01.parquet\"\n",
    "DATA_VAL   = \"yellow_tripdata_2023-02.parquet\""
   ]
  },
  {
   "cell_type": "code",
   "execution_count": 3,
   "id": "d8e57de7",
   "metadata": {},
   "outputs": [
    {
     "name": "stdout",
     "output_type": "stream",
     "text": [
      "Q1 – number of columns (january): 19\n"
     ]
    }
   ],
   "source": [
    "#  Q1 – number of columns (january)\n",
    "df_raw = pd.read_parquet(DATA_TRAIN)\n",
    "print(\"Q1 – number of columns (january):\", df_raw.shape[1])"
   ]
  },
  {
   "cell_type": "code",
   "execution_count": 4,
   "id": "a4a7ca8f",
   "metadata": {},
   "outputs": [
    {
     "name": "stdout",
     "output_type": "stream",
     "text": [
      "Q2 – unfiltered std duration: 42.59 min\n"
     ]
    }
   ],
   "source": [
    "#  Q2 – unfiltered standard deviation of duration\n",
    "df_raw['duration'] = (df_raw.tpep_dropoff_datetime -\n",
    "                      df_raw.tpep_pickup_datetime).dt.total_seconds() / 60\n",
    "std_duration = df_raw['duration'].std()\n",
    "print(f\"Q2 – unfiltered std duration: {std_duration:.2f} min\")"
   ]
  },
  {
   "cell_type": "code",
   "execution_count": 5,
   "id": "aab7e8d8",
   "metadata": {},
   "outputs": [
    {
     "name": "stdout",
     "output_type": "stream",
     "text": [
      "Q3 – fraction of the records after filtering: 0.981\n"
     ]
    }
   ],
   "source": [
    "#  Q3 – fraction of the records after filtering (1 - 60 minutes)\n",
    "n_total = len(df_raw)\n",
    "df_raw_filt = df_raw[(df_raw.duration >= 1) & (df_raw.duration <= 60)]\n",
    "fraction = len(df_raw_filt) / n_total\n",
    "print(f\"Q3 – fraction of the records after filtering: {fraction:.3f}\")"
   ]
  },
  {
   "cell_type": "code",
   "execution_count": 6,
   "id": "9ec5cb40",
   "metadata": {},
   "outputs": [],
   "source": [
    "#  reusable functions to read and prepare parquet\n",
    "def read_dataframe(path):\n",
    "    df = pd.read_parquet(path)\n",
    "\n",
    "    df['duration'] = (df.tpep_dropoff_datetime -\n",
    "                      df.tpep_pickup_datetime).dt.total_seconds() / 60\n",
    "\n",
    "    df = df[(df.duration >= 1) & (df.duration <= 60)]\n",
    "\n",
    "    for col in ['PULocationID', 'DOLocationID']:\n",
    "        df[col] = df[col].astype(str)\n",
    "\n",
    "    return df"
   ]
  },
  {
   "cell_type": "code",
   "execution_count": 7,
   "id": "26063adb",
   "metadata": {},
   "outputs": [],
   "source": [
    "#  train and validation dataframes\n",
    "df_train = read_dataframe(DATA_TRAIN)\n",
    "df_val   = read_dataframe(DATA_VAL)"
   ]
  },
  {
   "cell_type": "code",
   "execution_count": 8,
   "id": "3bad5dbc",
   "metadata": {},
   "outputs": [
    {
     "name": "stdout",
     "output_type": "stream",
     "text": [
      "Q4 – matrix dimension (nº columns): 515\n"
     ]
    }
   ],
   "source": [
    "#  Vectorization (one‑hot) – it answers Q4\n",
    "dv = DictVectorizer(sparse=True)\n",
    "\n",
    "train_dicts = df_train[['PULocationID', 'DOLocationID']].to_dict(\"records\")\n",
    "X_train     = dv.fit_transform(train_dicts)\n",
    "y_train     = df_train['duration'].values\n",
    "\n",
    "val_dicts = df_val[['PULocationID', 'DOLocationID']].to_dict(\"records\")\n",
    "X_val      = dv.transform(val_dicts)\n",
    "y_val      = df_val['duration'].values\n",
    "\n",
    "print(\"Q4 – matrix dimension (nº columns):\", X_train.shape[1])"
   ]
  },
  {
   "cell_type": "code",
   "execution_count": 9,
   "id": "8bee0a32",
   "metadata": {},
   "outputs": [
    {
     "name": "stdout",
     "output_type": "stream",
     "text": [
      "Q5 – RMSE on train:      7.649261822035489\n",
      "Q6 – RMSE on validation: 7.811821332387183\n"
     ]
    }
   ],
   "source": [
    "#  Q5 / Q6 – model and metrics\n",
    "lr = LinearRegression()\n",
    "lr.fit(X_train, y_train)\n",
    "\n",
    "rmse_train = sqrt(mean_squared_error(y_train, lr.predict(X_train)))\n",
    "rmse_val   = sqrt(mean_squared_error(y_val,   lr.predict(X_val)))\n",
    "\n",
    "print(f\"Q5 – RMSE on train:      {rmse_train}\")\n",
    "print(f\"Q6 – RMSE on validation: {rmse_val}\")"
   ]
  }
 ],
 "metadata": {
  "kernelspec": {
   "display_name": "Python 3",
   "language": "python",
   "name": "python3"
  },
  "language_info": {
   "codemirror_mode": {
    "name": "ipython",
    "version": 3
   },
   "file_extension": ".py",
   "mimetype": "text/x-python",
   "name": "python",
   "nbconvert_exporter": "python",
   "pygments_lexer": "ipython3",
   "version": "undefined.undefined.undefined"
  }
 },
 "nbformat": 4,
 "nbformat_minor": 5
}
